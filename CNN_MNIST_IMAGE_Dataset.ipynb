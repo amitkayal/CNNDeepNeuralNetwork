{
  "nbformat": 4,
  "nbformat_minor": 0,
  "metadata": {
    "colab": {
      "name": "CNN_MNIST_IMAGE_Dataset.ipynb",
      "version": "0.3.2",
      "provenance": [],
      "collapsed_sections": []
    },
    "kernelspec": {
      "name": "python3",
      "display_name": "Python 3"
    },
    "accelerator": "GPU"
  },
  "cells": [
    {
      "metadata": {
        "id": "aNyZv-Ec52ot",
        "colab_type": "text"
      },
      "cell_type": "markdown",
      "source": [
        "# **Import Libraries and modules**"
      ]
    },
    {
      "metadata": {
        "id": "-JlWOL37jE1I",
        "colab_type": "text"
      },
      "cell_type": "markdown",
      "source": [
        "This section explains the librarries required for model"
      ]
    },
    {
      "metadata": {
        "id": "3m3w1Cw49Zkt",
        "colab_type": "code",
        "colab": {}
      },
      "cell_type": "code",
      "source": [
        "# https://keras.io/\n",
        "!pip install -q keras\n",
        "import keras"
      ],
      "execution_count": 0,
      "outputs": []
    },
    {
      "metadata": {
        "id": "M6m0nYu7jmf7",
        "colab_type": "text"
      },
      "cell_type": "markdown",
      "source": [
        "Sequential lib is used sequential model development as our models are always sequential here. we are not using skip layer one. Model is a linear stack of layers.\n",
        "We have also imported layers along with Convolution with MaxPooling.\n",
        "Dataset will be here mnist images."
      ]
    },
    {
      "metadata": {
        "id": "Eso6UHE080D4",
        "colab_type": "code",
        "colab": {
          "base_uri": "https://localhost:8080/",
          "height": 35
        },
        "outputId": "7679f7ff-bcd7-4d9b-a114-168c8373f7d8"
      },
      "cell_type": "code",
      "source": [
        "import numpy as np\n",
        "\n",
        "from keras.models import Sequential \n",
        "from keras.layers import Dense, Dropout, Activation, Flatten, Add\n",
        "from keras.layers import Convolution2D, MaxPooling2D\n",
        "from keras.utils import np_utils\n",
        "\n",
        "from keras.datasets import mnist"
      ],
      "execution_count": 1,
      "outputs": [
        {
          "output_type": "stream",
          "text": [
            "Using TensorFlow backend.\n"
          ],
          "name": "stderr"
        }
      ]
    },
    {
      "metadata": {
        "id": "zByEi95J86RD",
        "colab_type": "text"
      },
      "cell_type": "markdown",
      "source": [
        "### Load pre-shuffled MNIST data into train and test sets"
      ]
    },
    {
      "metadata": {
        "id": "7eRM0QWN83PV",
        "colab_type": "code",
        "colab": {}
      },
      "cell_type": "code",
      "source": [
        "(X_train, y_train), (X_test, y_test) = mnist.load_data()"
      ],
      "execution_count": 0,
      "outputs": []
    },
    {
      "metadata": {
        "id": "4a4Be72j8-ZC",
        "colab_type": "code",
        "colab": {
          "base_uri": "https://localhost:8080/",
          "height": 300
        },
        "outputId": "8769239c-0ffe-4a5e-d705-ef6a3e2d2a66"
      },
      "cell_type": "code",
      "source": [
        "print (X_train.shape)\n",
        "\n",
        "from matplotlib import pyplot as plt\n",
        "%matplotlib inline\n",
        "plt.imshow(X_train[0])"
      ],
      "execution_count": 7,
      "outputs": [
        {
          "output_type": "stream",
          "text": [
            "(60000, 28, 28)\n"
          ],
          "name": "stdout"
        },
        {
          "output_type": "execute_result",
          "data": {
            "text/plain": [
              "<matplotlib.image.AxesImage at 0x7f67c887fcc0>"
            ]
          },
          "metadata": {
            "tags": []
          },
          "execution_count": 7
        },
        {
          "output_type": "display_data",
          "data": {
            "image/png": "[encoded data removed]",
            "text/plain": [
              "<matplotlib.figure.Figure at 0x7f681d58ea20>"
            ]
          },
          "metadata": {
            "tags": []
          }
        }
      ]
    },
    {
      "metadata": {
        "id": "TbwP8obMPPda",
        "colab_type": "text"
      },
      "cell_type": "markdown",
      "source": [
        "The shape of X_train is (60000, 28, 28). Each image has 28 x 28 resolution. The shape of X_test is (10000, 28, 28).  As all the images are in grayscale, the number of channels is 1. If it was a color image, then the number of channels would be 3 (R, G, B). The input shape that a CNN will need to be in a specific format. Tensorflow has format of  (batch, height, width, channels)."
      ]
    },
    {
      "metadata": {
        "id": "dkmprriw9AnZ",
        "colab_type": "code",
        "colab": {}
      },
      "cell_type": "code",
      "source": [
        "X_train = X_train.reshape(X_train.shape[0], 28, 28,1)\n",
        "X_test = X_test.reshape(X_test.shape[0], 28, 28,1)"
      ],
      "execution_count": 0,
      "outputs": []
    },
    {
      "metadata": {
        "id": "ILW80QCXPpND",
        "colab_type": "text"
      },
      "cell_type": "markdown",
      "source": [
        " Reshape our input.\n"
      ]
    },
    {
      "metadata": {
        "id": "X2m4YS4E9CRh",
        "colab_type": "code",
        "colab": {}
      },
      "cell_type": "code",
      "source": [
        "X_train = X_train.astype('float32')\n",
        "X_test = X_test.astype('float32')\n",
        "X_train /= 255\n",
        "X_test /= 255"
      ],
      "execution_count": 0,
      "outputs": []
    },
    {
      "metadata": {
        "id": "0Mn0vAYD9DvB",
        "colab_type": "code",
        "colab": {
          "base_uri": "https://localhost:8080/",
          "height": 35
        },
        "outputId": "07a1e266-3edb-4e8d-b3d4-915938bb2e8f"
      },
      "cell_type": "code",
      "source": [
        "y_train[:10]"
      ],
      "execution_count": 10,
      "outputs": [
        {
          "output_type": "execute_result",
          "data": {
            "text/plain": [
              "array([5, 0, 4, 1, 9, 2, 1, 3, 1, 4], dtype=uint8)"
            ]
          },
          "metadata": {
            "tags": []
          },
          "execution_count": 10
        }
      ]
    },
    {
      "metadata": {
        "id": "hWaP883sQZRn",
        "colab_type": "text"
      },
      "cell_type": "markdown",
      "source": [
        "We will need to do the hit encoding for Y_train and Y_test. In one-hot encoding the integer is converted to an array which contains only one ‘1’ and the rest elements are ‘0’."
      ]
    },
    {
      "metadata": {
        "id": "ZG8JiXR39FHC",
        "colab_type": "code",
        "colab": {}
      },
      "cell_type": "code",
      "source": [
        "# Convert 1-dimensional class arrays to 10-dimensional class matrices\n",
        "Y_train = np_utils.to_categorical(y_train, 10)\n",
        "Y_test = np_utils.to_categorical(y_test, 10)"
      ],
      "execution_count": 0,
      "outputs": []
    },
    {
      "metadata": {
        "id": "fYlFRvKS9HMB",
        "colab_type": "code",
        "colab": {
          "base_uri": "https://localhost:8080/",
          "height": 191
        },
        "outputId": "bad83368-9d9f-4d46-d9c9-98c99d232239"
      },
      "cell_type": "code",
      "source": [
        "Y_train[:10]\n"
      ],
      "execution_count": 41,
      "outputs": [
        {
          "output_type": "execute_result",
          "data": {
            "text/plain": [
              "array([[0., 0., 0., 0., 0., 1., 0., 0., 0., 0.],\n",
              "       [1., 0., 0., 0., 0., 0., 0., 0., 0., 0.],\n",
              "       [0., 0., 0., 0., 1., 0., 0., 0., 0., 0.],\n",
              "       [0., 1., 0., 0., 0., 0., 0., 0., 0., 0.],\n",
              "       [0., 0., 0., 0., 0., 0., 0., 0., 0., 1.],\n",
              "       [0., 0., 1., 0., 0., 0., 0., 0., 0., 0.],\n",
              "       [0., 1., 0., 0., 0., 0., 0., 0., 0., 0.],\n",
              "       [0., 0., 0., 1., 0., 0., 0., 0., 0., 0.],\n",
              "       [0., 1., 0., 0., 0., 0., 0., 0., 0., 0.],\n",
              "       [0., 0., 0., 0., 1., 0., 0., 0., 0., 0.]], dtype=float32)"
            ]
          },
          "metadata": {
            "tags": []
          },
          "execution_count": 41
        }
      ]
    },
    {
      "metadata": {
        "id": "osKqT73Q9JJB",
        "colab_type": "code",
        "colab": {}
      },
      "cell_type": "code",
      "source": [
        "# Original Code\n",
        "#from keras.layers import Activation\n",
        "#model = Sequential()\n",
        "\n",
        " \n",
        "# model.add(Convolution2D(32, 3, 3, activation='relu', input_shape=(28,28,1)))\n",
        "#model.add(Convolution2D(32, (3, 3), activation='relu', input_shape=(28,28,1)))\n",
        "#model.add(Convolution2D(10, 1, activation='relu'))\n",
        "#model.add(Convolution2D(10, 26))\n",
        "#model.add(Flatten())\n",
        "#model.add(Activation('softmax'))\n",
        "# # # # # # # # # # # # # # # # # # # # # # # # # # # # \n"
      ],
      "execution_count": 0,
      "outputs": []
    },
    {
      "metadata": {
        "id": "FfqCMNIIQugS",
        "colab_type": "text"
      },
      "cell_type": "markdown",
      "source": [
        "CNN architecture has following steps.\n",
        "\n",
        "*   Convolution\n",
        "*   Activation\n",
        "*   Batch Normalisation\n",
        "*   Pooling\n",
        "*   Repeat above three steps for adding more hidden layer\n",
        "\n",
        "Our first layer, 64 is number of filters and (9, 9) is the size of the filter. We also need to specify the shape of the input which is (28, 28, 1), but we have to specify it only once.\n",
        "The second layer is the Activation layer. We have used ReLU (rectified linear unit) as our activation function."
      ]
    },
    {
      "metadata": {
        "id": "VRUpmOVzs8mo",
        "colab_type": "code",
        "colab": {}
      },
      "cell_type": "code",
      "source": [
        "# Original Code\n",
        "from keras.layers import Activation\n",
        "from keras.layers.normalization import BatchNormalization\n",
        "\n",
        "model = Sequential()\n",
        "\n",
        "model.add(Convolution2D(64, (11,11), activation='relu', input_shape=(28,28,1)))\n",
        "model.add(BatchNormalization(axis=-1))\n",
        "model.add(Convolution2D(10, 1, activation='relu'))\n",
        "model.add(Convolution2D(10, 18))\n",
        "model.add(Flatten())\n",
        "model.add(Activation('softmax'))\n",
        "\n",
        "\n",
        "\n"
      ],
      "execution_count": 0,
      "outputs": []
    },
    {
      "metadata": {
        "id": "TzdAYg1k9K7Z",
        "colab_type": "code",
        "colab": {
          "base_uri": "https://localhost:8080/",
          "height": 347
        },
        "outputId": "9c620514-dfca-4d23-bbbe-83c435320f4c"
      },
      "cell_type": "code",
      "source": [
        "model.summary()\n"
      ],
      "execution_count": 243,
      "outputs": [
        {
          "output_type": "stream",
          "text": [
            "_________________________________________________________________\n",
            "Layer (type)                 Output Shape              Param #   \n",
            "=================================================================\n",
            "conv2d_190 (Conv2D)          (None, 18, 18, 64)        7808      \n",
            "_________________________________________________________________\n",
            "batch_normalization_11 (Batc (None, 18, 18, 64)        256       \n",
            "_________________________________________________________________\n",
            "conv2d_191 (Conv2D)          (None, 18, 18, 10)        650       \n",
            "_________________________________________________________________\n",
            "conv2d_192 (Conv2D)          (None, 1, 1, 10)          32410     \n",
            "_________________________________________________________________\n",
            "flatten_52 (Flatten)         (None, 10)                0         \n",
            "_________________________________________________________________\n",
            "activation_65 (Activation)   (None, 10)                0         \n",
            "=================================================================\n",
            "Total params: 41,124\n",
            "Trainable params: 40,996\n",
            "Non-trainable params: 128\n",
            "_________________________________________________________________\n"
          ],
          "name": "stdout"
        }
      ]
    },
    {
      "metadata": {
        "id": "Zp6SuGrL9M3h",
        "colab_type": "code",
        "colab": {}
      },
      "cell_type": "code",
      "source": [
        "model.compile(loss='categorical_crossentropy',\n",
        "             optimizer='adam',\n",
        "             metrics=['accuracy'])"
      ],
      "execution_count": 0,
      "outputs": []
    },
    {
      "metadata": {
        "id": "4xWoKhPY9Of5",
        "colab_type": "code",
        "colab": {
          "base_uri": "https://localhost:8080/",
          "height": 436
        },
        "outputId": "ee1a6f70-e5f5-4b02-c0f4-7b88032c549f"
      },
      "cell_type": "code",
      "source": [
        "model.fit(X_train, Y_train, batch_size=32, nb_epoch=10, verbose=1)"
      ],
      "execution_count": 245,
      "outputs": [
        {
          "output_type": "stream",
          "text": [
            "/usr/local/lib/python3.6/dist-packages/keras/models.py:981: UserWarning: The `nb_epoch` argument in `fit` has been renamed `epochs`.\n",
            "  warnings.warn('The `nb_epoch` argument in `fit` '\n"
          ],
          "name": "stderr"
        },
        {
          "output_type": "stream",
          "text": [
            "Epoch 1/10\n",
            "60000/60000 [==============================] - 24s 393us/step - loss: 0.1230 - acc: 0.9625\n",
            "Epoch 2/10\n",
            "48256/60000 [=======================>......] - ETA: 4s - loss: 0.0547 - acc: 0.9835"
          ],
          "name": "stdout"
        },
        {
          "output_type": "stream",
          "text": [
            "60000/60000 [==============================] - 22s 374us/step - loss: 0.0543 - acc: 0.9833\n",
            "Epoch 3/10\n",
            "60000/60000 [==============================] - 23s 376us/step - loss: 0.0389 - acc: 0.9875\n",
            "Epoch 4/10\n",
            "10080/60000 [====>.........................] - ETA: 19s - loss: 0.0267 - acc: 0.9917"
          ],
          "name": "stdout"
        },
        {
          "output_type": "stream",
          "text": [
            "60000/60000 [==============================] - 22s 367us/step - loss: 0.0295 - acc: 0.9905\n",
            "Epoch 5/10\n",
            "60000/60000 [==============================] - 22s 367us/step - loss: 0.0244 - acc: 0.9919\n"
          ],
          "name": "stdout"
        },
        {
          "output_type": "stream",
          "text": [
            "Epoch 6/10\n",
            "60000/60000 [==============================] - 22s 375us/step - loss: 0.0193 - acc: 0.9939\n",
            "Epoch 7/10\n",
            "48640/60000 [=======================>......] - ETA: 4s - loss: 0.0152 - acc: 0.9947"
          ],
          "name": "stdout"
        },
        {
          "output_type": "stream",
          "text": [
            "60000/60000 [==============================] - 22s 368us/step - loss: 0.0162 - acc: 0.9946\n",
            "Epoch 8/10\n",
            "60000/60000 [==============================] - 22s 361us/step - loss: 0.0146 - acc: 0.9950\n",
            "Epoch 9/10\n",
            "11136/60000 [====>.........................] - ETA: 17s - loss: 0.0080 - acc: 0.9977"
          ],
          "name": "stdout"
        },
        {
          "output_type": "stream",
          "text": [
            "60000/60000 [==============================] - 21s 357us/step - loss: 0.0105 - acc: 0.9965\n",
            "Epoch 10/10\n",
            "59776/60000 [============================>.] - ETA: 0s - loss: 0.0100 - acc: 0.9963"
          ],
          "name": "stdout"
        },
        {
          "output_type": "stream",
          "text": [
            "60000/60000 [==============================] - 22s 373us/step - loss: 0.0099 - acc: 0.9963\n"
          ],
          "name": "stdout"
        },
        {
          "output_type": "execute_result",
          "data": {
            "text/plain": [
              "<keras.callbacks.History at 0x7f6790aee2b0>"
            ]
          },
          "metadata": {
            "tags": []
          },
          "execution_count": 245
        }
      ]
    },
    {
      "metadata": {
        "id": "AtsH-lLk-eLb",
        "colab_type": "code",
        "colab": {}
      },
      "cell_type": "code",
      "source": [
        "score = model.evaluate(X_test, Y_test, verbose=0)\n",
        "# plot graph\n"
      ],
      "execution_count": 0,
      "outputs": []
    },
    {
      "metadata": {
        "id": "mkX8JMv79q9r",
        "colab_type": "code",
        "colab": {
          "base_uri": "https://localhost:8080/",
          "height": 52
        },
        "outputId": "4759dc53-8ac0-4b61-af01-9871358bfebb"
      },
      "cell_type": "code",
      "source": [
        "print(score)\n",
        "# serialize weights to HDF5\n",
        "model.save_weights(\"model.h5\")\n",
        "print(\"Saved model to disk\")"
      ],
      "execution_count": 247,
      "outputs": [
        {
          "output_type": "stream",
          "text": [
            "[0.0503010831305161, 0.9883]\n",
            "Saved model to disk\n"
          ],
          "name": "stdout"
        }
      ]
    },
    {
      "metadata": {
        "id": "OCWoJkwE9suh",
        "colab_type": "code",
        "colab": {}
      },
      "cell_type": "code",
      "source": [
        "y_pred = model.predict(X_test)\n"
      ],
      "execution_count": 0,
      "outputs": []
    },
    {
      "metadata": {
        "id": "Ym7iCFBm9uBs",
        "colab_type": "code",
        "colab": {
          "base_uri": "https://localhost:8080/",
          "height": 503
        },
        "outputId": "d926a4cc-2f4d-4e7e-b6e1-666362d10c9c"
      },
      "cell_type": "code",
      "source": [
        "print(y_pred[:9])\n",
        "print(y_test[:9])"
      ],
      "execution_count": 249,
      "outputs": [
        {
          "output_type": "stream",
          "text": [
            "[[1.20431632e-17 1.67196986e-25 1.40480984e-13 2.39890979e-13\n",
            "  1.13307659e-27 9.58596307e-22 5.95851669e-28 1.00000000e+00\n",
            "  8.23245384e-18 2.63708091e-16]\n",
            " [9.23706878e-15 9.00856723e-10 1.00000000e+00 1.52332519e-13\n",
            "  2.74579415e-16 1.77198758e-22 1.60837385e-11 1.14111584e-17\n",
            "  1.22961949e-12 6.33374925e-18]\n",
            " [2.50129209e-13 9.99997258e-01 3.55107305e-10 1.67217573e-10\n",
            "  1.93473554e-07 7.85070953e-10 1.71928585e-12 1.28209081e-06\n",
            "  1.32297157e-06 5.47379364e-10]\n",
            " [9.99975920e-01 5.21998033e-18 4.45228125e-11 1.15900456e-10\n",
            "  1.50975881e-11 1.62695433e-05 7.78165304e-06 3.90632451e-08\n",
            "  3.10283882e-11 9.03591299e-11]\n",
            " [5.47355486e-15 7.32837348e-13 4.73020390e-19 7.69786779e-22\n",
            "  1.00000000e+00 1.46545234e-15 1.68962890e-16 3.86140078e-12\n",
            "  2.41739734e-13 3.22192442e-08]\n",
            " [3.51174905e-15 9.99949694e-01 9.25731930e-13 7.25654562e-12\n",
            "  7.22438290e-06 1.19294121e-14 3.54941914e-15 4.15537143e-05\n",
            "  1.55435259e-06 2.60429953e-08]\n",
            " [1.18870225e-24 9.39825661e-15 2.88481295e-14 1.22282481e-16\n",
            "  9.99999881e-01 5.09077072e-16 1.31782829e-16 7.11591363e-15\n",
            "  1.27135209e-07 1.02420614e-08]\n",
            " [6.27075040e-21 2.29172725e-18 1.59963293e-11 5.34384582e-14\n",
            "  2.55531177e-07 3.73497687e-14 1.17020837e-20 3.96629954e-16\n",
            "  9.35481033e-12 9.99999762e-01]\n",
            " [1.02793377e-15 7.57830071e-22 2.54611282e-22 2.11137057e-17\n",
            "  1.05284532e-21 9.99997258e-01 2.60405864e-06 2.99009558e-19\n",
            "  6.99579630e-08 1.07667542e-12]]\n",
            "[7 2 1 0 4 1 4 9 5]\n"
          ],
          "name": "stdout"
        }
      ]
    },
    {
      "metadata": {
        "id": "CT--y98_dr2T",
        "colab_type": "code",
        "colab": {
          "base_uri": "https://localhost:8080/",
          "height": 55
        },
        "outputId": "c067bd93-89ac-4527-c247-6d154cd656dc"
      },
      "cell_type": "code",
      "source": [
        "layer_dict = dict([(layer.name, layer) for layer in model.layers])\n",
        "print(layer_dict)"
      ],
      "execution_count": 250,
      "outputs": [
        {
          "output_type": "stream",
          "text": [
            "{'conv2d_190': <keras.layers.convolutional.Conv2D object at 0x7f6790a90128>, 'batch_normalization_11': <keras.layers.normalization.BatchNormalization object at 0x7f6790a90048>, 'conv2d_191': <keras.layers.convolutional.Conv2D object at 0x7f6790a90748>, 'conv2d_192': <keras.layers.convolutional.Conv2D object at 0x7f6790b583c8>, 'flatten_52': <keras.layers.core.Flatten object at 0x7f678f523860>, 'activation_65': <keras.layers.core.Activation object at 0x7f678f455550>}\n"
          ],
          "name": "stdout"
        }
      ]
    },
    {
      "metadata": {
        "id": "GmHB2LQoeKLA",
        "colab_type": "text"
      },
      "cell_type": "markdown",
      "source": [
        "This is what a CNN learns from each layer. We can see that some filters have learnt to recognize edges, curves, etc."
      ]
    },
    {
      "metadata": {
        "id": "2GY4Upv4dsUR",
        "colab_type": "code",
        "colab": {
          "base_uri": "https://localhost:8080/",
          "height": 869
        },
        "outputId": "34b4e305-8c35-4fbd-8d71-8443524efc30"
      },
      "cell_type": "code",
      "source": [
        "import numpy as np\n",
        "from matplotlib import pyplot as plt\n",
        "from keras import backend as K\n",
        "%matplotlib inline\n",
        "# util function to convert a tensor into a valid image\n",
        "def deprocess_image(x):\n",
        "    # normalize tensor: center on 0., ensure std is 0.1\n",
        "    x -= x.mean()\n",
        "    x /= (x.std() + 1e-5)\n",
        "    x *= 0.1\n",
        "\n",
        "    # clip to [0, 1]\n",
        "    x += 0.5\n",
        "    x = np.clip(x, 0, 1)\n",
        "\n",
        "    # convert to RGB array\n",
        "    x *= 255\n",
        "    #x = x.transpose((1, 2, 0))\n",
        "    x = np.clip(x, 0, 255).astype('uint8')\n",
        "    return x\n",
        "\n",
        "def vis_img_in_filter(img = np.array(X_train[2]).reshape((1, 28, 28, 1)).astype(np.float64), \n",
        "                      layer_name = 'conv2d_190'):\n",
        "    layer_output = layer_dict[layer_name].output\n",
        "    img_ascs = list()\n",
        "    for filter_index in range(layer_output.shape[3]):\n",
        "        # build a loss function that maximizes the activation\n",
        "        # of the nth filter of the layer considered\n",
        "        loss = K.mean(layer_output[:, :, :, filter_index])\n",
        "\n",
        "        # compute the gradient of the input picture wrt this loss\n",
        "        grads = K.gradients(loss, model.input)[0]\n",
        "\n",
        "        # normalization trick: we normalize the gradient\n",
        "        grads /= (K.sqrt(K.mean(K.square(grads))) + 1e-5)\n",
        "\n",
        "        # this function returns the loss and grads given the input picture\n",
        "        iterate = K.function([model.input], [loss, grads])\n",
        "\n",
        "        # step size for gradient ascent\n",
        "        step = 5.\n",
        "\n",
        "        img_asc = np.array(img)\n",
        "        # run gradient ascent for 20 steps\n",
        "        for i in range(20):\n",
        "            loss_value, grads_value = iterate([img_asc])\n",
        "            img_asc += grads_value * step\n",
        "\n",
        "        img_asc = img_asc[0]\n",
        "        img_ascs.append(deprocess_image(img_asc).reshape((28, 28)))\n",
        "        \n",
        "    if layer_output.shape[3] >= 35:\n",
        "        plot_x, plot_y = 6, 6\n",
        "    elif layer_output.shape[3] >= 23:\n",
        "        plot_x, plot_y = 4, 6\n",
        "    elif layer_output.shape[3] >= 11:\n",
        "        plot_x, plot_y = 2, 6\n",
        "    else:\n",
        "        plot_x, plot_y = 1, 2\n",
        "    fig, ax = plt.subplots(plot_x, plot_y, figsize = (12, 12))\n",
        "    ax[0, 0].imshow(img.reshape((28, 28)), cmap = 'gray')\n",
        "    ax[0, 0].set_title('Input image')\n",
        "    fig.suptitle('Input image and %s filters' % (layer_name,))\n",
        "    fig.tight_layout(pad = 0.3, rect = [0, 0, 0.9, 0.9])\n",
        "    for (x, y) in [(i, j) for i in range(plot_x) for j in range(plot_y)]:\n",
        "        if x == 0 and y == 0:\n",
        "            continue\n",
        "        ax[x, y].imshow(img_ascs[x * plot_y + y - 1], cmap = 'gray')\n",
        "        ax[x, y].set_title('filter %d' % (x * plot_y + y - 1))\n",
        "\n",
        "vis_img_in_filter()"
      ],
      "execution_count": 251,
      "outputs": [
        {
          "output_type": "display_data",
          "data": {
            "image/png": "[encoded data removed]",
            "text/plain": [
              "<matplotlib.figure.Figure at 0x7f6781e5b898>"
            ]
          },
          "metadata": {
            "tags": []
          }
        }
      ]
    },
    {
      "metadata": {
        "id": "9tvptcn8dxvp",
        "colab_type": "code",
        "colab": {}
      },
      "cell_type": "code",
      "source": [
        ""
      ],
      "execution_count": 0,
      "outputs": []
    }
  ]
}